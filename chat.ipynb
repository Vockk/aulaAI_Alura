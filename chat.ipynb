{
  "nbformat": 4,
  "nbformat_minor": 0,
  "metadata": {
    "colab": {
      "provenance": [],
      "authorship_tag": "ABX9TyMLNKDef2sD0CN2316b3ADA",
      "include_colab_link": true
    },
    "kernelspec": {
      "name": "python3",
      "display_name": "Python 3"
    },
    "language_info": {
      "name": "python"
    }
  },
  "cells": [
    {
      "cell_type": "markdown",
      "metadata": {
        "id": "view-in-github",
        "colab_type": "text"
      },
      "source": [
        "<a href=\"https://colab.research.google.com/github/Vockk/aulaAI_Alura/blob/main/chat.ipynb\" target=\"_parent\"><img src=\"https://colab.research.google.com/assets/colab-badge.svg\" alt=\"Open In Colab\"/></a>"
      ]
    },
    {
      "cell_type": "code",
      "source": [
        "!pip install -q -U google-generativeai"
      ],
      "metadata": {
        "id": "mvC_GlEC_G2m"
      },
      "execution_count": 1,
      "outputs": []
    },
    {
      "cell_type": "code",
      "execution_count": 21,
      "metadata": {
        "id": "DiuHBP-x81Ec"
      },
      "outputs": [],
      "source": [
        "import google.generativeai as genai\n",
        "from google.colab import userdata\n",
        "api_key = userdata.get('SECRET_KEY')\n",
        "genai.configure(api_key=api_key)\n"
      ]
    },
    {
      "cell_type": "code",
      "source": [
        "model = genai.GenerativeModel('gemini-1.0-pro')\n"
      ],
      "metadata": {
        "id": "UsTsKehhC_GA"
      },
      "execution_count": 15,
      "outputs": []
    },
    {
      "cell_type": "code",
      "source": [
        "chat = model.start_chat(history=[])"
      ],
      "metadata": {
        "id": "nBslk2u1EgpA"
      },
      "execution_count": 16,
      "outputs": []
    },
    {
      "cell_type": "code",
      "source": [
        "prompt = input('Esperando prompt: ')\n",
        "\n",
        "while prompt != 'fim':\n",
        "  response = chat.send_message(prompt)\n",
        "  print('Resposta: ', response.text, '\\n')\n",
        "  prompt = input('Esperando prompt: ')\n"
      ],
      "metadata": {
        "colab": {
          "base_uri": "https://localhost:8080/",
          "height": 208
        },
        "id": "F2OAWb9UE_32",
        "outputId": "8f7db68a-eb84-4875-8d3d-b2ab6acc0870"
      },
      "execution_count": 22,
      "outputs": [
        {
          "name": "stdout",
          "output_type": "stream",
          "text": [
            "Esperando prompt: Quem é o presidente do Brasil?\n",
            "Resposta:  O atual presidente do Brasil é **Luiz Inácio Lula da Silva**. Ele foi eleito em 30 de outubro de 2022 e tomou posse em 1º de janeiro de 2023.\n",
            "\n",
            "Lula é membro do Partido dos Trabalhadores (PT) e já foi presidente do Brasil de 2003 a 2010. Ele é o primeiro presidente a ser eleito para três mandatos. \n",
            "\n",
            "Esperando prompt: Qual a idade dele/?\n",
            "Resposta:  Luiz Inácio Lula da Silva nasceu em 27 de outubro de 1945. Portanto, sua idade atual é **77 anos**.\n",
            "\n",
            "Ele é a pessoa mais velha a ser eleita presidente do Brasil. \n",
            "\n",
            "Esperando prompt: fim\n"
          ]
        }
      ]
    }
  ]
}